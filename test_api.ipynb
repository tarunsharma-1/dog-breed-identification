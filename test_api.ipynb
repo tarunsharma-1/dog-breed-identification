{
  "nbformat": 4,
  "nbformat_minor": 0,
  "metadata": {
    "colab": {
      "name": "test-api.ipynb",
      "provenance": [],
      "authorship_tag": "ABX9TyN8D29ad6szBIVJjqLeq2l+",
      "include_colab_link": true
    },
    "kernelspec": {
      "name": "python3",
      "display_name": "Python 3"
    },
    "language_info": {
      "name": "python"
    }
  },
  "cells": [
    {
      "cell_type": "markdown",
      "metadata": {
        "id": "view-in-github",
        "colab_type": "text"
      },
      "source": [
        "<a href=\"https://colab.research.google.com/github/tarunsharma-1/dog-breed-identification/blob/main/test_api.ipynb\" target=\"_parent\"><img src=\"https://colab.research.google.com/assets/colab-badge.svg\" alt=\"Open In Colab\"/></a>"
      ]
    },
    {
      "cell_type": "code",
      "metadata": {
        "id": "znn64GRY55nU"
      },
      "source": [
        "from keras.preprocessing.image import img_to_array\n",
        "from keras.applications import imagenet_utils\n",
        "from PIL import Image\n",
        "import numpy as np\n",
        "import flask\n",
        "import io\n",
        "from tensorflow.keras.models import load_model\n",
        "import argparse\n"
      ],
      "execution_count": 1,
      "outputs": []
    },
    {
      "cell_type": "code",
      "metadata": {
        "id": "VI5B9g5o6Dou"
      },
      "source": [
        "# initialize our Flask application and the Keras model\n",
        "\n",
        "model = None\n",
        "\n"
      ],
      "execution_count": 2,
      "outputs": []
    },
    {
      "cell_type": "code",
      "metadata": {
        "id": "nL6oEozP6YS8"
      },
      "source": [
        "def prepare_image(image, target):\n",
        "    # if the image mode is not RGB, convert it\n",
        "    if image.mode != \"RGB\":\n",
        "        image = image.convert(\"RGB\")\n",
        "\n",
        "    # resize the input image and preprocess it\n",
        "    image = image.resize(target)\n",
        "    image = img_to_array(image)\n",
        "    image = np.expand_dims(image, axis=0)\n",
        "    image = imagenet_utils.preprocess_input(image)\n",
        "\n",
        "    # return the processed image\n",
        "    return image\n"
      ],
      "execution_count": 3,
      "outputs": []
    },
    {
      "cell_type": "code",
      "metadata": {
        "id": "UuBD9PJB6dSB"
      },
      "source": [
        "def predict(image):\n",
        "\n",
        "            image = prepare_image(image, target=(224, 224))\n",
        "\n",
        "            # classify the input image and then initialize the list\n",
        "            # of predictions to return to the client\n",
        "            preds = model.predict(image)\n",
        "            results = imagenet_utils.decode_predictions(preds)\n",
        "            data[\"predictions\"] = []\n",
        "\n",
        "            # loop over the results and add them to the list of\n",
        "            # returned predictions\n",
        "            for (imagenetID, label, prob) in results[0]:\n",
        "                r = {\"label\": label, \"probability\": float(prob)}\n",
        "                data[\"predictions\"].append(r)\n",
        "\n",
        "            # indicate that the request was a success\n",
        "            data[\"success\"] = True\n",
        "            print(data)"
      ],
      "execution_count": 4,
      "outputs": []
    },
    {
      "cell_type": "code",
      "metadata": {
        "id": "GfrKSewO6ieK"
      },
      "source": [
        "# if this is the main thread of execution first load the model and\n",
        "# then start the server\n",
        "if __name__ == \"__main__\":\n",
        "    print((\"* Loading Keras model and Flask starting server...\"\n",
        "        \"please wait until server has fully started\"))\n",
        "    ap = argparse.ArgumentParser()\n",
        "    ap.add_argument(\"-m\", \"--model\", required=True,\n",
        "    \thelp=\"path to trained dog breed identification model\")\n",
        "\n",
        "    ap.add_argument(\"-i\", \"--image\", required=True,\n",
        "    \thelp=\"path to input image\")\n",
        "    args = vars(ap.parse_args())\n",
        "\n",
        "    model = load_model(args[\"model\"])\n"
      ],
      "execution_count": null,
      "outputs": []
    }
  ]
}